{
 "cells": [
  {
   "cell_type": "code",
   "execution_count": 1,
   "metadata": {
    "id": "11Q_LS3GAYUe"
   },
   "outputs": [],
   "source": [
    "import warnings\n",
    "from typing import Any, Dict, Tuple\n",
    "\n",
    "import torch\n",
    "from torchmeta.toy import Sinusoid\n",
    "from torchmeta.utils.data import BatchMetaDataLoader\n",
    "\n",
    "warnings.filterwarnings(action=\"ignore\")"
   ]
  },
  {
   "cell_type": "code",
   "execution_count": 2,
   "metadata": {
    "id": "SGiFUDo4AYXb"
   },
   "outputs": [],
   "source": [
    "def get_dataloader(\n",
    "    config: Dict[str, Any]\n",
    ") -> Tuple[BatchMetaDataLoader, BatchMetaDataLoader, BatchMetaDataLoader]:\n",
    "    train_dataset = Sinusoid(\n",
    "        num_samples_per_task=config[\"num_shots\"] * 2,\n",
    "        num_tasks=config[\"num_batches_train\"] * config[\"batch_size\"],\n",
    "        noise_std=None,\n",
    "    )\n",
    "    train_dataloader = BatchMetaDataLoader(train_dataset, batch_size=config[\"batch_size\"])\n",
    "\n",
    "    val_dataset = Sinusoid(\n",
    "        num_samples_per_task=config[\"num_shots\"] * 2,\n",
    "        num_tasks=config[\"num_batches_val\"] * config[\"batch_size\"],\n",
    "        noise_std=None,\n",
    "    )\n",
    "    val_dataloader = BatchMetaDataLoader(val_dataset, batch_size=config[\"batch_size\"])\n",
    "\n",
    "    test_dataset = Sinusoid(\n",
    "        num_samples_per_task=config[\"num_shots\"] * 2,\n",
    "        num_tasks=config[\"num_batches_test\"] * config[\"batch_size\"],\n",
    "        noise_std=None,\n",
    "    )\n",
    "    test_dataloader = BatchMetaDataLoader(test_dataset, batch_size=config[\"batch_size\"])\n",
    "\n",
    "    return train_dataloader, val_dataloader, test_dataloader"
   ]
  },
  {
   "cell_type": "code",
   "execution_count": 3,
   "metadata": {
    "id": "OVVdyOxrAYbJ"
   },
   "outputs": [],
   "source": [
    "config = {\n",
    "    \"num_shots\": 5,\n",
    "    \"batch_size\": 3,\n",
    "    \"num_batches_train\": 6000,\n",
    "    \"num_batches_test\": 2000,\n",
    "    \"num_batches_val\": 100,\n",
    "    \"device\": \"cpu\",  # \"cuda\" or \"cpu\"\n",
    "}\n",
    "\n",
    "train_dataloader, val_dataloader, test_dataloader = get_dataloader(config)"
   ]
  },
  {
   "cell_type": "code",
   "execution_count": 5,
   "metadata": {
    "id": "ZJ18XoSpApSP"
   },
   "outputs": [
    {
     "name": "stdout",
     "output_type": "stream",
     "text": [
      "support_x shape : torch.Size([3, 5, 1])\n",
      " support_y shape : torch.Size([3, 5, 1])\n",
      " query_x shape   : torch.Size([3, 5, 1])\n",
      " query_y shape   : torch.Size([3, 5, 1])\n"
     ]
    }
   ],
   "source": [
    "for batch_idx, batch in enumerate(val_dataloader):\n",
    "    xs, ys = batch\n",
    "    support_xs = xs[:, : config[\"num_shots\"], :].to(device=config[\"device\"]).type(torch.float)\n",
    "    query_xs = xs[:, config[\"num_shots\"] :, :].to(device=config[\"device\"]).type(torch.float)\n",
    "    support_ys = ys[:, : config[\"num_shots\"], :].to(device=config[\"device\"]).type(torch.float)\n",
    "    query_ys = ys[:, config[\"num_shots\"] :, :].to(device=config[\"device\"]).type(torch.float)\n",
    "\n",
    "    print(\n",
    "        f\"support_x shape : {support_xs.shape}\\n\",\n",
    "        f\"support_y shape : {support_ys.shape}\\n\",\n",
    "        f\"query_x shape   : {query_xs.shape}\\n\",\n",
    "        f\"query_y shape   : {query_ys.shape}\",\n",
    "    )\n",
    "\n",
    "    break"
   ]
  }
 ],
 "metadata": {
  "colab": {
   "authorship_tag": "ABX9TyOXJpAoFEiyxJoLk7Kvuo+9",
   "collapsed_sections": [],
   "name": "load_sinusoid.ipynb",
   "provenance": []
  },
  "interpreter": {
   "hash": "1e00701f8c0a829a96ff452fb5277f0ece3f4e07662fe9989dbbafc0d5cb5571"
  },
  "kernelspec": {
   "display_name": "Python 3 (ipykernel)",
   "language": "python",
   "name": "python3"
  },
  "language_info": {
   "codemirror_mode": {
    "name": "ipython",
    "version": 3
   },
   "file_extension": ".py",
   "mimetype": "text/x-python",
   "name": "python",
   "nbconvert_exporter": "python",
   "pygments_lexer": "ipython3",
   "version": "3.8.8"
  }
 },
 "nbformat": 4,
 "nbformat_minor": 0
}
