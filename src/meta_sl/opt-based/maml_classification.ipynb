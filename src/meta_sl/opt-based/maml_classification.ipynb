{
 "cells": [
  {
   "cell_type": "code",
   "execution_count": 1,
   "metadata": {
    "id": "bTJzbukn0MJJ"
   },
   "outputs": [],
   "source": [
    "import collections\n",
    "import os\n",
    "import warnings\n",
    "from typing import Any, Dict, List, Optional, Tuple\n",
    "\n",
    "import matplotlib.pyplot as plt\n",
    "import torch\n",
    "import torch.nn as nn\n",
    "from torchmeta.datasets.helpers import omniglot\n",
    "from torchmeta.modules import MetaBatchNorm2d, MetaConv2d, MetaLinear, MetaModule, MetaSequential\n",
    "from torchmeta.utils.data import BatchMetaDataLoader\n",
    "from torchmeta.utils.gradient_based import gradient_update_parameters\n",
    "from tqdm import tqdm\n",
    "\n",
    "warnings.filterwarnings(\"ignore\")"
   ]
  },
  {
   "cell_type": "code",
   "execution_count": 2,
   "metadata": {
    "id": "qw8SIRdX0MJL"
   },
   "outputs": [],
   "source": [
    "def get_dataloader(\n",
    "    config: Dict[str, Any]\n",
    ") -> Tuple[BatchMetaDataLoader, BatchMetaDataLoader, BatchMetaDataLoader]:\n",
    "    train_dataset = omniglot(\n",
    "        folder=config[\"folder_name\"],\n",
    "        shots=config[\"num_shots\"],\n",
    "        # test_shots=1, # default = shots\n",
    "        ways=config[\"num_ways\"],\n",
    "        shuffle=True,\n",
    "        meta_train=True,\n",
    "        download=config[\"download\"],\n",
    "    )\n",
    "    train_dataloader = BatchMetaDataLoader(\n",
    "        train_dataset, batch_size=config[\"task_batch_size\"], shuffle=True, num_workers=1\n",
    "    )\n",
    "\n",
    "    val_dataset = omniglot(\n",
    "        folder=config[\"folder_name\"],\n",
    "        shots=config[\"num_shots\"],\n",
    "        # test_shots=1, # default = shots\n",
    "        ways=config[\"num_ways\"],\n",
    "        shuffle=True,\n",
    "        meta_val=True,\n",
    "        download=config[\"download\"],\n",
    "    )\n",
    "    val_dataloader = BatchMetaDataLoader(\n",
    "        val_dataset, batch_size=config[\"task_batch_size\"], shuffle=True, num_workers=1\n",
    "    )\n",
    "\n",
    "    test_dataset = omniglot(\n",
    "        folder=config[\"folder_name\"],\n",
    "        shots=config[\"num_shots\"],\n",
    "        # test_shots=1, # default = shots\n",
    "        ways=config[\"num_ways\"],\n",
    "        shuffle=True,\n",
    "        meta_test=True,\n",
    "        download=config[\"download\"],\n",
    "    )\n",
    "    test_dataloader = BatchMetaDataLoader(\n",
    "        test_dataset, batch_size=config[\"task_batch_size\"], shuffle=True, num_workers=1\n",
    "    )\n",
    "    return train_dataloader, val_dataloader, test_dataloader"
   ]
  },
  {
   "cell_type": "code",
   "execution_count": 3,
   "metadata": {
    "id": "T7ws-pbu0MJN"
   },
   "outputs": [],
   "source": [
    "class ConvNet(MetaModule):\n",
    "    def __init__(self, in_channels: int, out_features: int) -> None:\n",
    "        super(ConvNet, self).__init__()\n",
    "        self.in_channels = in_channels\n",
    "        self.out_features = out_features\n",
    "        self.hidden_size = 64\n",
    "\n",
    "        self.convs = MetaSequential(\n",
    "            self.convBlock(self.in_channels, self.hidden_size, 3),\n",
    "            self.convBlock(self.hidden_size, self.hidden_size, 3),\n",
    "            self.convBlock(self.hidden_size, self.hidden_size, 3),\n",
    "            self.convBlock(self.hidden_size, self.hidden_size, 3),\n",
    "        )\n",
    "\n",
    "        self.linear = MetaLinear(self.hidden_size, self.out_features)\n",
    "\n",
    "    @classmethod\n",
    "    def convBlock(\n",
    "        cls, in_channels: int, out_channels: int, kernel_size: int\n",
    "    ) -> MetaSequential:\n",
    "        return MetaSequential(\n",
    "            MetaConv2d(in_channels, out_channels, kernel_size, padding=1, stride=3),\n",
    "            MetaBatchNorm2d(out_channels, momentum=1.0, track_running_stats=False),\n",
    "            nn.ReLU(),\n",
    "        )\n",
    "\n",
    "    def forward(\n",
    "        self, x: torch.Tensor, params: Optional[collections.OrderedDict] = None\n",
    "    ) -> torch.Tensor:\n",
    "        x_convs = self.convs(x, params=self.get_subdict(params, \"convs\"))\n",
    "        prob = self.linear(\n",
    "            x_convs.flatten(start_dim=1), params=self.get_subdict(params, \"linear\")\n",
    "        )\n",
    "        return prob"
   ]
  },
  {
   "cell_type": "code",
   "execution_count": 4,
   "metadata": {
    "id": "TL9Kq-5L0MJO"
   },
   "outputs": [],
   "source": [
    "def train_maml(\n",
    "    device: str,\n",
    "    task_batch_size: int,\n",
    "    task_batch: Dict[str, List[torch.Tensor]],\n",
    "    model: ConvNet,\n",
    "    criterion: nn.CrossEntropyLoss,\n",
    "    optimizer: torch.optim.Adam,\n",
    ") -> Tuple[float, float]:\n",
    "    model.train()\n",
    "\n",
    "    support_xs = task_batch[\"train\"][0].to(device=device)\n",
    "    support_ys = task_batch[\"train\"][1].to(device=device)\n",
    "    query_xs = task_batch[\"test\"][0].to(device=device)\n",
    "    query_ys = task_batch[\"test\"][1].to(device=device)\n",
    "\n",
    "    outer_loss = torch.tensor(0.0, device=device)\n",
    "    accuracy = torch.tensor(0.0, device=device)\n",
    "\n",
    "    for support_x, support_y, query_x, query_y in zip(\n",
    "        support_xs, support_ys, query_xs, query_ys\n",
    "    ):\n",
    "        support_prob = model(support_x)\n",
    "        inner_loss = criterion(support_prob, support_y)\n",
    "\n",
    "        params = gradient_update_parameters(\n",
    "            model, inner_loss, step_size=0.4, first_order=True\n",
    "        )\n",
    "\n",
    "        query_prob = model(query_x, params=params)\n",
    "        outer_loss += criterion(query_prob, query_y)\n",
    "\n",
    "        with torch.no_grad():\n",
    "            _, query_pred = torch.max(query_prob, dim=-1)\n",
    "            accuracy += torch.mean(query_pred.eq(query_y).float())\n",
    "\n",
    "    outer_loss.div_(task_batch_size)\n",
    "\n",
    "    model.zero_grad()\n",
    "    outer_loss.backward()\n",
    "    optimizer.step()\n",
    "\n",
    "    accuracy.div_(task_batch_size)\n",
    "    return accuracy.item(), outer_loss.item()"
   ]
  },
  {
   "cell_type": "code",
   "execution_count": 5,
   "metadata": {
    "id": "1wQBu7TX0MJO"
   },
   "outputs": [],
   "source": [
    "def test_maml(\n",
    "    device: str,\n",
    "    task_batch_size: int,\n",
    "    task_batch: Dict[str, List[torch.Tensor]],\n",
    "    model: ConvNet,\n",
    "    criterion: nn.CrossEntropyLoss,\n",
    ") -> Tuple[float, float]:\n",
    "    model.eval()\n",
    "\n",
    "    support_xs = task_batch[\"train\"][0].to(device=device)\n",
    "    support_ys = task_batch[\"train\"][1].to(device=device)\n",
    "    query_xs = task_batch[\"test\"][0].to(device=device)\n",
    "    query_ys = task_batch[\"test\"][1].to(device=device)\n",
    "\n",
    "    outer_loss = torch.tensor(0.0, device=device)\n",
    "    accuracy = torch.tensor(0.0, device=device)\n",
    "\n",
    "    for support_x, support_y, query_x, query_y in zip(\n",
    "        support_xs, support_ys, query_xs, query_ys\n",
    "    ):\n",
    "        support_prob = model(support_x)\n",
    "        inner_loss = criterion(support_prob, support_y)\n",
    "\n",
    "        params = gradient_update_parameters(\n",
    "            model, inner_loss, step_size=0.4, first_order=True\n",
    "        )\n",
    "\n",
    "        query_prob = model(query_x, params=params)\n",
    "        outer_loss += criterion(query_prob, query_y)\n",
    "\n",
    "        with torch.no_grad():\n",
    "            _, query_pred = torch.max(query_prob, dim=-1)\n",
    "            accuracy += torch.mean(query_pred.eq(query_y).float())\n",
    "\n",
    "    outer_loss.div_(task_batch_size)\n",
    "    accuracy.div_(task_batch_size)\n",
    "    return accuracy.item(), outer_loss.item()"
   ]
  },
  {
   "cell_type": "code",
   "execution_count": 6,
   "metadata": {},
   "outputs": [],
   "source": [
    "def save_model(output_folder: str, model: ConvNet, title: str) -> None:\n",
    "    if not os.path.isdir(output_folder):\n",
    "        os.mkdir(output_folder)\n",
    "    filename = os.path.join(output_folder, title)\n",
    "\n",
    "    with open(filename, \"wb\") as f:\n",
    "        state_dict = model.state_dict()\n",
    "        torch.save(state_dict, f)\n",
    "    print(\"Model is saved in\", filename)\n",
    "\n",
    "\n",
    "def load_model(output_folder: str, model: ConvNet, title: str) -> None:\n",
    "    filename = os.path.join(output_folder, title)\n",
    "    model.load_state_dict(torch.load(filename))\n",
    "    print(\"Model is loaded\")"
   ]
  },
  {
   "cell_type": "code",
   "execution_count": 7,
   "metadata": {},
   "outputs": [],
   "source": [
    "def print_graph(\n",
    "    train_accuracies: List[float],\n",
    "    val_accuracies: List[float],\n",
    "    train_losses: List[float],\n",
    "    val_losses: List[float],\n",
    ") -> None:\n",
    "    fig, axs = plt.subplots(1, 2, figsize=(14, 6))\n",
    "\n",
    "    axs[0].plot(train_accuracies, label=\"train_acc\")\n",
    "    axs[0].plot(val_accuracies, label=\"test_acc\")\n",
    "    axs[0].set_title(\"Accuracy\")\n",
    "    axs[0].legend()\n",
    "\n",
    "    axs[1].plot(train_losses, label=\"train_loss\")\n",
    "    axs[1].plot(val_losses, label=\"test_loss\")\n",
    "    axs[1].set_title(\"Loss\")\n",
    "    axs[1].legend()\n",
    "\n",
    "    fig.show()"
   ]
  },
  {
   "cell_type": "code",
   "execution_count": 9,
   "metadata": {
    "id": "W6HODAYg0MJP"
   },
   "outputs": [
    {
     "name": "stdout",
     "output_type": "stream",
     "text": [
      "Downloading https://raw.githubusercontent.com/brendenlake/omniglot/master/python/images_background.zip to dataset/omniglot/images_background.zip\n"
     ]
    },
    {
     "data": {
      "application/vnd.jupyter.widget-view+json": {
       "model_id": "e01473e2526245818e4aa18b4595fd4f",
       "version_major": 2,
       "version_minor": 0
      },
      "text/plain": [
       "  0%|          | 0/9464212 [00:00<?, ?it/s]"
      ]
     },
     "metadata": {},
     "output_type": "display_data"
    },
    {
     "name": "stdout",
     "output_type": "stream",
     "text": [
      "Downloading https://raw.githubusercontent.com/brendenlake/omniglot/master/python/images_evaluation.zip to dataset/omniglot/images_evaluation.zip\n"
     ]
    },
    {
     "data": {
      "application/vnd.jupyter.widget-view+json": {
       "model_id": "ca2ff7fd3a32461cb104fc28a3ee73ff",
       "version_major": 2,
       "version_minor": 0
      },
      "text/plain": [
       "  0%|          | 0/6462886 [00:00<?, ?it/s]"
      ]
     },
     "metadata": {},
     "output_type": "display_data"
    }
   ],
   "source": [
    "config = {\n",
    "    \"folder_name\": \"dataset\",\n",
    "    \"download\": True,\n",
    "    \"num_shots\": 5,\n",
    "    \"num_ways\": 5,\n",
    "    \"output_folder\": \"saved_model\",\n",
    "    \"task_batch_size\": 32,  # 필수\n",
    "    \"num_task_batch_train\": 600,  # 필수\n",
    "    \"num_task_batch_test\": 200,  # 필수\n",
    "    \"device\": \"cuda\",  # 필수\n",
    "}\n",
    "\n",
    "train_dataloader, val_dataloader, test_dataloader = get_dataloader(config)\n",
    "\n",
    "model = ConvNet(in_channels=1, out_features=config[\"num_ways\"]).to(\n",
    "    device=config[\"device\"]\n",
    ")\n",
    "\n",
    "criterion = nn.CrossEntropyLoss()\n",
    "optimizer = torch.optim.Adam(model.parameters(), lr=1e-3)"
   ]
  },
  {
   "cell_type": "code",
   "execution_count": 10,
   "metadata": {
    "colab": {
     "base_uri": "https://localhost:8080/",
     "height": 426
    },
    "executionInfo": {
     "elapsed": 688356,
     "status": "ok",
     "timestamp": 1642222194260,
     "user": {
      "displayName": "Luna Jang",
      "photoUrl": "https://lh3.googleusercontent.com/a-/AOh14GiBq_mQ3pvg1aATbjbemG_YdHPPMMsRmQcVaghkug=s64",
      "userId": "06164029183671863730"
     },
     "user_tz": -540
    },
    "id": "0ilglJ9E0MJQ",
    "outputId": "cefc19fe-a60e-429a-93b8-32ac633f7818"
   },
   "outputs": [
    {
     "name": "stderr",
     "output_type": "stream",
     "text": [
      "100%|██████████| 600/600 [03:43<00:00,  2.69it/s, train_accuracy=0.9237, train_loss=0.2476, val_accuracy=0.9175, val_loss=0.2387]\n"
     ]
    },
    {
     "name": "stdout",
     "output_type": "stream",
     "text": [
      "Model is saved in saved_model/maml_classification.th\n"
     ]
    },
    {
     "data": {
      "image/png": "[encoded data removed]",
      "text/plain": [
       "<Figure size 1008x432 with 2 Axes>"
      ]
     },
     "metadata": {
      "needs_background": "light"
     },
     "output_type": "display_data"
    }
   ],
   "source": [
    "# 메타-트레이닝\n",
    "with tqdm(\n",
    "    zip(train_dataloader, val_dataloader), total=config[\"num_task_batch_train\"]\n",
    ") as pbar:\n",
    "    train_accuracies = []\n",
    "    val_accuracies = []\n",
    "    train_losses = []\n",
    "    val_losses = []\n",
    "\n",
    "    for task_batch_idx, (train_batch, val_batch) in enumerate(pbar):\n",
    "        if task_batch_idx >= config[\"num_task_batch_train\"]:\n",
    "            break\n",
    "\n",
    "        train_accuracy, train_loss = train_maml(\n",
    "            device=config[\"device\"],\n",
    "            task_batch_size=config[\"task_batch_size\"],\n",
    "            task_batch=train_batch,\n",
    "            model=model,\n",
    "            criterion=criterion,\n",
    "            optimizer=optimizer,\n",
    "        )\n",
    "        val_accuracy, val_loss = test_maml(\n",
    "            device=config[\"device\"],\n",
    "            task_batch_size=config[\"task_batch_size\"],\n",
    "            task_batch=val_batch,\n",
    "            model=model,\n",
    "            criterion=criterion,\n",
    "        )\n",
    "\n",
    "        train_accuracies.append(train_accuracy)\n",
    "        val_accuracies.append(val_accuracy)\n",
    "        train_losses.append(train_loss)\n",
    "        val_losses.append(val_loss)\n",
    "\n",
    "        pbar.set_postfix(\n",
    "            train_accuracy=\"{0:.4f}\".format(train_accuracy),\n",
    "            val_accuracy=\"{0:.4f}\".format(val_accuracy),\n",
    "            train_loss=\"{0:.4f}\".format(train_loss),\n",
    "            val_loss=\"{0:.4f}\".format(val_loss),\n",
    "        )\n",
    "\n",
    "# 모델 저장하기\n",
    "save_model(\n",
    "    output_folder=config[\"output_folder\"], model=model, title=\"maml_classification.th\"\n",
    ")\n",
    "\n",
    "print_graph(\n",
    "    train_accuracies=train_accuracies,\n",
    "    val_accuracies=val_accuracies,\n",
    "    train_losses=train_losses,\n",
    "    val_losses=val_losses,\n",
    ")"
   ]
  },
  {
   "cell_type": "code",
   "execution_count": 11,
   "metadata": {
    "colab": {
     "base_uri": "https://localhost:8080/"
    },
    "executionInfo": {
     "elapsed": 148325,
     "status": "ok",
     "timestamp": 1642222342574,
     "user": {
      "displayName": "Luna Jang",
      "photoUrl": "https://lh3.googleusercontent.com/a-/AOh14GiBq_mQ3pvg1aATbjbemG_YdHPPMMsRmQcVaghkug=s64",
      "userId": "06164029183671863730"
     },
     "user_tz": -540
    },
    "id": "yeSJO_Hb_bUX",
    "outputId": "c5d6ae18-687f-41e2-dbc1-cb69ed80096a"
   },
   "outputs": [
    {
     "name": "stdout",
     "output_type": "stream",
     "text": [
      "Model is loaded\n"
     ]
    },
    {
     "name": "stderr",
     "output_type": "stream",
     "text": [
      "100%|██████████| 200/200 [01:14<00:00,  2.69it/s, test_accuracy=0.9035, test_loss=0.2901]\n"
     ]
    }
   ],
   "source": [
    "# 모델 불러오기\n",
    "load_model(\n",
    "    output_folder=config[\"output_folder\"], model=model, title=\"maml_classification.th\"\n",
    ")\n",
    "\n",
    "# 메타-테스팅\n",
    "with tqdm(test_dataloader, total=config[\"num_task_batch_test\"]) as pbar:\n",
    "    sum_test_accuracies = 0.0\n",
    "    sum_test_losses = 0.0\n",
    "\n",
    "    for task_batch_idx, test_batch in enumerate(pbar):\n",
    "        if task_batch_idx >= config[\"num_task_batch_test\"]:\n",
    "            break\n",
    "\n",
    "        test_accuracy, test_loss = test_maml(\n",
    "            device=config[\"device\"],\n",
    "            task_batch_size=config[\"task_batch_size\"],\n",
    "            task_batch=test_batch,\n",
    "            model=model,\n",
    "            criterion=criterion,\n",
    "        )\n",
    "\n",
    "        sum_test_accuracies += test_accuracy\n",
    "        sum_test_losses += test_loss\n",
    "        pbar.set_postfix(\n",
    "            test_accuracy=\"{0:.4f}\".format(sum_test_accuracies / (task_batch_idx + 1)),\n",
    "            test_loss=\"{0:.4f}\".format(sum_test_losses / (task_batch_idx + 1)),\n",
    "        )"
   ]
  }
 ],
 "metadata": {
  "accelerator": "GPU",
  "colab": {
   "collapsed_sections": [],
   "name": "MAML_classification.ipynb",
   "provenance": []
  },
  "kernelspec": {
   "display_name": "Python 3 (ipykernel)",
   "language": "python",
   "name": "python3"
  },
  "language_info": {
   "codemirror_mode": {
    "name": "ipython",
    "version": 3
   },
   "file_extension": ".py",
   "mimetype": "text/x-python",
   "name": "python",
   "nbconvert_exporter": "python",
   "pygments_lexer": "ipython3",
   "version": "3.8.8"
  },
  "orig_nbformat": 4,
  "vscode": {
   "interpreter": {
    "hash": "1e00701f8c0a829a96ff452fb5277f0ece3f4e07662fe9989dbbafc0d5cb5571"
   }
  }
 },
 "nbformat": 4,
 "nbformat_minor": 0
}
