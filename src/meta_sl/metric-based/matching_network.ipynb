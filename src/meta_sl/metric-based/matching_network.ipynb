{
 "cells": [
  {
   "cell_type": "code",
   "execution_count": 1,
   "metadata": {
    "id": "aN_3dJ_zACtb"
   },
   "outputs": [],
   "source": [
    "import os\n",
    "import warnings\n",
    "from typing import Any, Dict, List, Tuple\n",
    "\n",
    "import matplotlib.pyplot as plt\n",
    "import torch\n",
    "import torch.nn as nn\n",
    "import torch.nn.functional as F\n",
    "from torchmeta.datasets.helpers import omniglot\n",
    "from torchmeta.utils.data import BatchMetaDataLoader\n",
    "from tqdm import tqdm\n",
    "\n",
    "warnings.filterwarnings(\"ignore\")"
   ]
  },
  {
   "cell_type": "code",
   "execution_count": 2,
   "metadata": {
    "id": "-MwLuvQHAEB1"
   },
   "outputs": [],
   "source": [
    "def get_dataloader(\n",
    "    config: Dict[str, Any]\n",
    ") -> Tuple[BatchMetaDataLoader, BatchMetaDataLoader, BatchMetaDataLoader]:\n",
    "    train_dataset = omniglot(\n",
    "        folder=config[\"folder_name\"],\n",
    "        shots=config[\"num_shots\"],\n",
    "        # test_shots=1, # default = shots\n",
    "        ways=config[\"num_ways\"],\n",
    "        shuffle=True,\n",
    "        meta_train=True,\n",
    "        download=config[\"download\"],\n",
    "    )\n",
    "    train_dataloader = BatchMetaDataLoader(\n",
    "        train_dataset, batch_size=config[\"task_batch_size\"], shuffle=True, num_workers=1\n",
    "    )\n",
    "\n",
    "    val_dataset = omniglot(\n",
    "        folder=config[\"folder_name\"],\n",
    "        shots=config[\"num_shots\"],\n",
    "        # test_shots=1, # default = shots\n",
    "        ways=config[\"num_ways\"],\n",
    "        shuffle=True,\n",
    "        meta_val=True,\n",
    "        download=config[\"download\"],\n",
    "    )\n",
    "    val_dataloader = BatchMetaDataLoader(\n",
    "        val_dataset, batch_size=config[\"task_batch_size\"], shuffle=True, num_workers=1\n",
    "    )\n",
    "\n",
    "    test_dataset = omniglot(\n",
    "        folder=config[\"folder_name\"],\n",
    "        shots=config[\"num_shots\"],\n",
    "        # test_shots=1, # default = shots\n",
    "        ways=config[\"num_ways\"],\n",
    "        shuffle=True,\n",
    "        meta_test=True,\n",
    "        download=config[\"download\"],\n",
    "    )\n",
    "    test_dataloader = BatchMetaDataLoader(\n",
    "        test_dataset, batch_size=config[\"task_batch_size\"], shuffle=True, num_workers=1\n",
    "    )\n",
    "    return train_dataloader, val_dataloader, test_dataloader"
   ]
  },
  {
   "cell_type": "code",
   "execution_count": 3,
   "metadata": {
    "id": "5vTd5AOVAJj4"
   },
   "outputs": [],
   "source": [
    "class MatchingNet(nn.Module):\n",
    "    def __init__(self, in_channels: int, num_ways: int, num_shots: int) -> None:\n",
    "        super(MatchingNet, self).__init__()\n",
    "        self.in_channels = in_channels\n",
    "        self.emb_size = 64\n",
    "        self.conv_hidden = 64\n",
    "        self.num_ways = num_ways\n",
    "        self.num_support = num_ways * num_shots\n",
    "\n",
    "        self.cnn = nn.Sequential(\n",
    "            self.convBlock(self.in_channels, self.emb_size, 3),  # 14\n",
    "            self.convBlock(self.emb_size, self.emb_size, 3),  # 7\n",
    "            self.convBlock(self.emb_size, self.emb_size, 3),  # 3\n",
    "            self.convBlock(self.emb_size, self.emb_size, 3),  # 1\n",
    "            nn.Flatten(start_dim=1),\n",
    "            nn.Linear(self.emb_size, self.emb_size),\n",
    "        )\n",
    "        self.bilstm = nn.LSTM(\n",
    "            input_size=self.emb_size,\n",
    "            num_layers=self.num_support,\n",
    "            hidden_size=self.emb_size,\n",
    "            bidirectional=True,\n",
    "            batch_first=True,\n",
    "        )\n",
    "\n",
    "        self.lstm_cell = nn.LSTMCell(\n",
    "            input_size=self.emb_size, hidden_size=self.emb_size\n",
    "        )\n",
    "\n",
    "    @classmethod\n",
    "    def convBlock(\n",
    "        cls, in_channels: int, out_channels: int, kernel_size: int\n",
    "    ) -> nn.Sequential:\n",
    "        return nn.Sequential(\n",
    "            nn.Conv2d(in_channels, out_channels, kernel_size, padding=1),\n",
    "            nn.BatchNorm2d(out_channels, momentum=1.0, track_running_stats=False),\n",
    "            nn.ReLU(),\n",
    "            nn.MaxPool2d(2),\n",
    "        )\n",
    "\n",
    "    def g(self, support_x: torch.Tensor) -> torch.Tensor:\n",
    "        batch_size = support_x.shape[0]\n",
    "        support_cnn = self.cnn(support_x.flatten(start_dim=0, end_dim=1)).unflatten(\n",
    "            dim=0, sizes=[batch_size, self.num_support]\n",
    "        )\n",
    "        support_bilstm, _ = self.bilstm(support_cnn)\n",
    "        support_bilstm_for, support_bilstm_rev = torch.tensor_split(\n",
    "            support_bilstm, 2, dim=-1\n",
    "        )\n",
    "        return support_bilstm_for + support_bilstm_rev + support_cnn\n",
    "\n",
    "    def read_out(self, hidden: torch.Tensor, support_emb: torch.Tensor) -> torch.Tensor:\n",
    "        num_query = int(hidden.shape[0] / support_emb.shape[0])\n",
    "        support_emb_repeat = support_emb.repeat(\n",
    "            num_query, 1, 1\n",
    "        )  # batch_size * num_query, num_support, emb_size\n",
    "        hidden_T = hidden.unsqueeze(-1)  # batch_size * num_query, emb_size, 1\n",
    "\n",
    "        attention = F.softmax(\n",
    "            torch.bmm(support_emb_repeat, hidden_T)\n",
    "        )  # batch_size * num_query, num_support, 1\n",
    "        support_emb_att = (\n",
    "            support_emb_repeat * attention\n",
    "        )  # batch_size * num_query, num_support, emb_size\n",
    "        return support_emb_att.sum(1)  # batch_size * num_query, emb_size\n",
    "\n",
    "    def f(self, query_x: torch.Tensor, support_emb: torch.Tensor) -> torch.Tensor:\n",
    "        query_cnn = self.cnn(query_x.flatten(start_dim=0, end_dim=1))\n",
    "        hidden_state = query_cnn.new_zeros(query_cnn.shape)\n",
    "        read_out = query_cnn.new_zeros(query_cnn.shape)\n",
    "        cell_state = query_cnn.new_zeros(query_cnn.shape)\n",
    "\n",
    "        for _ in range(10):\n",
    "            hidden_state, cell_state = self.lstm_cell(\n",
    "                query_cnn, (hidden_state + read_out, cell_state)\n",
    "            )\n",
    "            hidden_state = hidden_state + query_cnn\n",
    "            read_out = self.read_out(hidden_state, support_emb)\n",
    "\n",
    "        query_emb = hidden_state.unflatten(\n",
    "            dim=0, sizes=[query_x.shape[0], query_x.shape[1]]\n",
    "        )\n",
    "        return query_emb\n",
    "\n",
    "    def forward(\n",
    "        self, support_x: torch.Tensor, query_x: torch.Tensor\n",
    "    ) -> Tuple[torch.Tensor, torch.Tensor]:\n",
    "        support_emb = self.g(support_x)  # batch_size, num_support, emb_size\n",
    "        query_emb = self.f(query_x, support_emb)  # batch_size, num_query, emb_size\n",
    "        return support_emb, query_emb"
   ]
  },
  {
   "cell_type": "code",
   "execution_count": 4,
   "metadata": {
    "id": "9cRXILRLChXn"
   },
   "outputs": [],
   "source": [
    "def get_probability(\n",
    "    support_emb: torch.Tensor, query_emb: torch.Tensor, support_y, num_ways: int\n",
    ") -> torch.Tensor:\n",
    "    batch_size = support_emb.shape[0]\n",
    "    num_support = support_emb.shape[1]\n",
    "    num_query = query_emb.shape[1]\n",
    "\n",
    "    query_emb_repeat = query_emb.unsqueeze(2).repeat(\n",
    "        1, 1, num_support, 1\n",
    "    )  # batch_size, num_query, num_support, emb_size\n",
    "    support_emb_repeat = support_emb.unsqueeze(1).repeat(\n",
    "        1, num_query, 1, 1\n",
    "    )  # batch_size, num_query, num_support, emb_size\n",
    "\n",
    "    similarity = F.cosine_similarity(\n",
    "        support_emb_repeat, query_emb_repeat, dim=-1, eps=1e-8\n",
    "    )  # batch_size, num_query, num_support\n",
    "    attention = F.softmax(similarity, dim=-1)  # batch_size, num_query, num_support\n",
    "    indices = support_y.unsqueeze(1).expand(\n",
    "        -1, num_query, -1\n",
    "    )  # batch_size, num_query, num_support\n",
    "\n",
    "    prob = attention.new_zeros((batch_size, num_query, num_ways))\n",
    "    prob.scatter_add_(-1, indices, attention)  # batch_size, num_query, num_ways\n",
    "    return prob"
   ]
  },
  {
   "cell_type": "code",
   "execution_count": 5,
   "metadata": {
    "id": "KV6OJTriAK0q"
   },
   "outputs": [],
   "source": [
    "def train_matching(\n",
    "    num_ways: int,\n",
    "    device: str,\n",
    "    task_batch: Dict[str, List[torch.Tensor]],\n",
    "    model: MatchingNet,\n",
    "    criterion: nn.CrossEntropyLoss,\n",
    "    optimizer: torch.optim.Adam,\n",
    ") -> Tuple[float, float]:\n",
    "    model.train()\n",
    "\n",
    "    support_xs = task_batch[\"train\"][0].to(device=device)\n",
    "    support_ys = task_batch[\"train\"][1].to(device=device)\n",
    "    query_xs = task_batch[\"test\"][0].to(device=device)\n",
    "    query_ys = task_batch[\"test\"][1].to(device=device)\n",
    "\n",
    "    accuracy = torch.tensor(0.0, device=device)\n",
    "\n",
    "    support_emb, query_emb = model(support_xs, query_xs)\n",
    "    query_prob = get_probability(support_emb, query_emb, support_ys, num_ways)\n",
    "\n",
    "    query_prob_flat = query_prob.flatten(start_dim=0, end_dim=1)\n",
    "    query_ys_flat = query_ys.flatten()\n",
    "    loss = criterion(query_prob_flat, query_ys_flat)\n",
    "\n",
    "    model.zero_grad()\n",
    "    loss.backward()\n",
    "    optimizer.step()\n",
    "\n",
    "    with torch.no_grad():\n",
    "        _, query_pred = torch.max(query_prob, dim=-1)\n",
    "        accuracy = torch.mean(query_pred.eq(query_ys).float())\n",
    "    return accuracy.item(), loss.item()"
   ]
  },
  {
   "cell_type": "code",
   "execution_count": 11,
   "metadata": {
    "id": "g824Lhl8AMDv"
   },
   "outputs": [],
   "source": [
    "def test_matching(\n",
    "    num_ways: int,\n",
    "    device: str,\n",
    "    task_batch: Dict[str, List[torch.Tensor]],\n",
    "    model: MatchingNet,\n",
    "    criterion: nn.CrossEntropyLoss,\n",
    ") -> Tuple[float, float]:\n",
    "    model.eval()\n",
    "\n",
    "    support_xs = task_batch[\"train\"][0].to(device=device)\n",
    "    support_ys = task_batch[\"train\"][1].to(device=device)\n",
    "    query_xs = task_batch[\"test\"][0].to(device=device)\n",
    "    query_ys = task_batch[\"test\"][1].to(device=device)\n",
    "\n",
    "    accuracy = torch.tensor(0.0, device=device)\n",
    "\n",
    "    support_emb, query_emb = model(support_xs, query_xs)\n",
    "    query_prob = get_probability(support_emb, query_emb, support_ys, num_ways)\n",
    "\n",
    "    query_prob_flat = query_prob.flatten(start_dim=0, end_dim=1)\n",
    "    query_ys_flat = query_ys.flatten()\n",
    "    loss = criterion(query_prob_flat, query_ys_flat)\n",
    "\n",
    "    with torch.no_grad():\n",
    "        _, query_pred = torch.max(query_prob, dim=-1)\n",
    "        accuracy = torch.mean(query_pred.eq(query_ys).float())\n",
    "    return accuracy.item(), loss.item()"
   ]
  },
  {
   "cell_type": "code",
   "execution_count": 7,
   "metadata": {},
   "outputs": [],
   "source": [
    "def save_model(output_folder: str, model: MatchingNet, title: str) -> None:\n",
    "    if not os.path.isdir(output_folder):\n",
    "        os.mkdir(output_folder)\n",
    "    filename = os.path.join(output_folder, title)\n",
    "\n",
    "    with open(filename, \"wb\") as f:\n",
    "        state_dict = model.state_dict()\n",
    "        torch.save(state_dict, f)\n",
    "    print(\"Model is saved in\", filename)\n",
    "\n",
    "\n",
    "def load_model(output_folder: str, model: MatchingNet, title: str) -> None:\n",
    "    filename = os.path.join(output_folder, title)\n",
    "    model.load_state_dict(torch.load(filename))\n",
    "    print(\"Model is loaded\")"
   ]
  },
  {
   "cell_type": "code",
   "execution_count": 8,
   "metadata": {},
   "outputs": [],
   "source": [
    "def print_graph(\n",
    "    train_accuracies: List[float],\n",
    "    val_accuracies: List[float],\n",
    "    train_losses: List[float],\n",
    "    val_losses: List[float],\n",
    ") -> None:\n",
    "    fig, axs = plt.subplots(1, 2, figsize=(14, 6))\n",
    "\n",
    "    axs[0].plot(train_accuracies, label=\"train_acc\")\n",
    "    axs[0].plot(val_accuracies, label=\"test_acc\")\n",
    "    axs[0].set_title(\"Accuracy\")\n",
    "    axs[0].legend()\n",
    "\n",
    "    axs[1].plot(train_losses, label=\"train_loss\")\n",
    "    axs[1].plot(val_losses, label=\"test_loss\")\n",
    "    axs[1].set_title(\"Loss\")\n",
    "    axs[1].legend()\n",
    "\n",
    "    fig.show()"
   ]
  },
  {
   "cell_type": "code",
   "execution_count": 9,
   "metadata": {
    "id": "pvsAiQr4ANMi"
   },
   "outputs": [
    {
     "name": "stdout",
     "output_type": "stream",
     "text": [
      "Downloading https://raw.githubusercontent.com/brendenlake/omniglot/master/python/images_background.zip to dataset/omniglot/images_background.zip\n"
     ]
    },
    {
     "data": {
      "application/vnd.jupyter.widget-view+json": {
       "model_id": "f3030ac845b949668936802ee9d7b266",
       "version_major": 2,
       "version_minor": 0
      },
      "text/plain": [
       "  0%|          | 0/9464212 [00:00<?, ?it/s]"
      ]
     },
     "metadata": {},
     "output_type": "display_data"
    },
    {
     "name": "stdout",
     "output_type": "stream",
     "text": [
      "Downloading https://raw.githubusercontent.com/brendenlake/omniglot/master/python/images_evaluation.zip to dataset/omniglot/images_evaluation.zip\n"
     ]
    },
    {
     "data": {
      "application/vnd.jupyter.widget-view+json": {
       "model_id": "b525de2c457f4e51aee61b77dcde9001",
       "version_major": 2,
       "version_minor": 0
      },
      "text/plain": [
       "  0%|          | 0/6462886 [00:00<?, ?it/s]"
      ]
     },
     "metadata": {},
     "output_type": "display_data"
    }
   ],
   "source": [
    "config = {\n",
    "    \"folder_name\": \"dataset\",\n",
    "    \"download\": True,\n",
    "    \"num_shots\": 5,\n",
    "    \"num_ways\": 5,\n",
    "    \"output_folder\": \"saved_model\",\n",
    "    \"task_batch_size\": 32,  # 필수\n",
    "    \"num_task_batch_train\": 600,  # 필수\n",
    "    \"num_task_batch_test\": 200,  # 필수\n",
    "    \"device\": \"cuda\",  # 필수\n",
    "}\n",
    "\n",
    "train_dataloader, val_dataloader, test_dataloader = get_dataloader(config)\n",
    "\n",
    "model = MatchingNet(\n",
    "    in_channels=1, num_ways=config[\"num_ways\"], num_shots=config[\"num_shots\"]\n",
    ").to(device=config[\"device\"])\n",
    "\n",
    "criterion = nn.CrossEntropyLoss()\n",
    "optimizer = torch.optim.Adam(model.parameters(), lr=1e-3)"
   ]
  },
  {
   "cell_type": "code",
   "execution_count": 12,
   "metadata": {
    "colab": {
     "base_uri": "https://localhost:8080/",
     "height": 426
    },
    "executionInfo": {
     "elapsed": 625354,
     "status": "ok",
     "timestamp": 1642226393826,
     "user": {
      "displayName": "Luna Jang",
      "photoUrl": "https://lh3.googleusercontent.com/a-/AOh14GiBq_mQ3pvg1aATbjbemG_YdHPPMMsRmQcVaghkug=s64",
      "userId": "06164029183671863730"
     },
     "user_tz": -540
    },
    "id": "L7sQZyZtAOnJ",
    "outputId": "891ef1f6-1317-45b8-ff9a-f8c511047567"
   },
   "outputs": [
    {
     "name": "stderr",
     "output_type": "stream",
     "text": [
      "100%|██████████| 600/600 [03:44<00:00,  2.67it/s, train_accuracy=0.9712, train_loss=1.4501, val_accuracy=0.9712, val_loss=1.4501]\n"
     ]
    },
    {
     "name": "stdout",
     "output_type": "stream",
     "text": [
      "Model is saved in saved_model/matching_network.th\n"
     ]
    },
    {
     "data": {
      "image/png": "[encoded data removed]",
      "text/plain": [
       "<Figure size 1008x432 with 2 Axes>"
      ]
     },
     "metadata": {
      "needs_background": "light"
     },
     "output_type": "display_data"
    }
   ],
   "source": [
    "# 메타-트레이닝\n",
    "with tqdm(\n",
    "    zip(train_dataloader, val_dataloader), total=config[\"num_task_batch_train\"]\n",
    ") as pbar:\n",
    "    train_accuracies, val_accuracies = [], []\n",
    "    train_losses, val_losses = [], []\n",
    "\n",
    "    for task_batch_idx, (train_batch, val_batch) in enumerate(pbar):\n",
    "        if task_batch_idx >= config[\"num_task_batch_train\"]:\n",
    "            break\n",
    "\n",
    "        train_accuracy, train_loss = train_matching(\n",
    "            num_ways=config[\"num_ways\"],\n",
    "            device=config[\"device\"],\n",
    "            task_batch=train_batch,\n",
    "            model=model,\n",
    "            criterion=criterion,\n",
    "            optimizer=optimizer,\n",
    "        )\n",
    "        val_accuracy, val_loss = test_matching(\n",
    "            num_ways=config[\"num_ways\"],\n",
    "            device=config[\"device\"],\n",
    "            task_batch=val_batch,\n",
    "            model=model,\n",
    "            criterion=criterion,\n",
    "        )\n",
    "\n",
    "        train_accuracies.append(train_accuracy)\n",
    "        val_accuracies.append(val_accuracy)\n",
    "        train_losses.append(train_loss)\n",
    "        val_losses.append(val_loss)\n",
    "\n",
    "        pbar.set_postfix(\n",
    "            train_accuracy=\"{0:.4f}\".format(train_accuracy),\n",
    "            val_accuracy=\"{0:.4f}\".format(val_accuracy),\n",
    "            train_loss=\"{0:.4f}\".format(train_loss),\n",
    "            val_loss=\"{0:.4f}\".format(val_loss),\n",
    "        )\n",
    "\n",
    "    # 모델 저장하기\n",
    "    save_model(\n",
    "        output_folder=config[\"output_folder\"], model=model, title=\"matching_network.th\"\n",
    "    )\n",
    "\n",
    "    print_graph(\n",
    "        train_accuracies=train_accuracies,\n",
    "        val_accuracies=val_accuracies,\n",
    "        train_losses=train_losses,\n",
    "        val_losses=val_losses,\n",
    "    )"
   ]
  },
  {
   "cell_type": "code",
   "execution_count": 13,
   "metadata": {
    "colab": {
     "base_uri": "https://localhost:8080/"
    },
    "executionInfo": {
     "elapsed": 141874,
     "status": "ok",
     "timestamp": 1642226535691,
     "user": {
      "displayName": "Luna Jang",
      "photoUrl": "https://lh3.googleusercontent.com/a-/AOh14GiBq_mQ3pvg1aATbjbemG_YdHPPMMsRmQcVaghkug=s64",
      "userId": "06164029183671863730"
     },
     "user_tz": -540
    },
    "id": "TeFUZElhMcJK",
    "outputId": "f782b74f-5f64-4384-e5b0-f97b2b6c1378"
   },
   "outputs": [
    {
     "name": "stdout",
     "output_type": "stream",
     "text": [
      "Model is loaded\n"
     ]
    },
    {
     "name": "stderr",
     "output_type": "stream",
     "text": [
      "100%|██████████| 200/200 [01:13<00:00,  2.72it/s, test_accuracy=0.9602, test_loss=1.4563]\n"
     ]
    }
   ],
   "source": [
    "# 모델 불러오기\n",
    "load_model(\n",
    "    output_folder=config[\"output_folder\"], model=model, title=\"matching_network.th\"\n",
    ")\n",
    "\n",
    "# 메타-테스팅\n",
    "with tqdm(test_dataloader, total=config[\"num_task_batch_test\"]) as pbar:\n",
    "    sum_test_accuracies = 0.0\n",
    "    sum_test_losses = 0.0\n",
    "\n",
    "    for task_batch_idx, test_batch in enumerate(pbar):\n",
    "        if task_batch_idx >= config[\"num_task_batch_test\"]:\n",
    "            break\n",
    "\n",
    "        test_accuracy, test_loss = test_matching(\n",
    "            num_ways=config[\"num_ways\"],\n",
    "            device=config[\"device\"],\n",
    "            task_batch=test_batch,\n",
    "            model=model,\n",
    "            criterion=criterion,\n",
    "        )\n",
    "\n",
    "        sum_test_accuracies += test_accuracy\n",
    "        sum_test_losses += test_loss\n",
    "        pbar.set_postfix(\n",
    "            test_accuracy=\"{0:.4f}\".format(sum_test_accuracies / (task_batch_idx + 1)),\n",
    "            test_loss=\"{0:.4f}\".format(sum_test_losses / (task_batch_idx + 1)),\n",
    "        )"
   ]
  }
 ],
 "metadata": {
  "accelerator": "GPU",
  "colab": {
   "authorship_tag": "ABX9TyMtuxrc/fuwZifJWblpAYfK",
   "collapsed_sections": [],
   "name": "Matching_network.ipynb",
   "provenance": []
  },
  "interpreter": {
   "hash": "1e00701f8c0a829a96ff452fb5277f0ece3f4e07662fe9989dbbafc0d5cb5571"
  },
  "kernelspec": {
   "display_name": "Python 3 (ipykernel)",
   "language": "python",
   "name": "python3"
  },
  "toc": {
   "base_numbering": 1,
   "nav_menu": {},
   "number_sections": true,
   "sideBar": true,
   "skip_h1_title": false,
   "title_cell": "Table of Contents",
   "title_sidebar": "Contents",
   "toc_cell": false,
   "toc_position": {},
   "toc_section_display": true,
   "toc_window_display": false
  },
  "varInspector": {
   "cols": {
    "lenName": 16,
    "lenType": 16,
    "lenVar": 40
   },
   "kernels_config": {
    "python": {
     "delete_cmd_postfix": "",
     "delete_cmd_prefix": "del ",
     "library": "var_list.py",
     "varRefreshCmd": "print(var_dic_list())"
    },
    "r": {
     "delete_cmd_postfix": ") ",
     "delete_cmd_prefix": "rm(",
     "library": "var_list.r",
     "varRefreshCmd": "cat(var_dic_list()) "
    }
   },
   "types_to_exclude": [
    "module",
    "function",
    "builtin_function_or_method",
    "instance",
    "_Feature"
   ],
   "window_display": false
  }
 },
 "nbformat": 4,
 "nbformat_minor": 1
}
