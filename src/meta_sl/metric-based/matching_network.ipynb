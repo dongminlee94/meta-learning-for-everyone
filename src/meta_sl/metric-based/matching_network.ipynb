{
 "nbformat": 4,
 "nbformat_minor": 0,
 "metadata": {
  "colab": {
   "name": "Matching_network.ipynb",
   "provenance": [],
   "collapsed_sections": [],
   "authorship_tag": "ABX9TyMtuxrc/fuwZifJWblpAYfK"
  },
  "kernelspec": {
   "name": "python3",
   "display_name": "Python 3"
  },
  "language_info": {
   "name": "python"
  },
  "accelerator": "GPU"
 },
 "cells": [
  {
   "cell_type": "code",
   "execution_count": null,
   "metadata": {
    "id": "FJKahTH8_6OX"
   },
   "outputs": [],
   "source": [
    "# Ignore InterpolationMode warnings from torchmeta\n",
    "import warnings\n",
    "\n",
    "warnings.filterwarnings(\"ignore\")"
   ]
  },
  {
   "cell_type": "code",
   "source": [
    "pip install torchmeta"
   ],
   "metadata": {
    "colab": {
     "base_uri": "https://localhost:8080/"
    },
    "id": "cQew4DnGAA9w",
    "executionInfo": {
     "status": "ok",
     "timestamp": 1642225764733,
     "user_tz": -540,
     "elapsed": 1957,
     "user": {
      "displayName": "Luna Jang",
      "photoUrl": "https://lh3.googleusercontent.com/a-/AOh14GiBq_mQ3pvg1aATbjbemG_YdHPPMMsRmQcVaghkug=s64",
      "userId": "06164029183671863730"
     }
    },
    "outputId": "f048beaf-e134-47d3-bc56-7bcff3ed3c02"
   },
   "execution_count": null,
   "outputs": [
    {
     "output_type": "stream",
     "name": "stdout",
     "text": [
      "Requirement already satisfied: torchmeta in /usr/local/lib/python3.7/dist-packages (1.8.0)\n",
      "Requirement already satisfied: h5py in /usr/local/lib/python3.7/dist-packages (from torchmeta) (3.1.0)\n",
      "Requirement already satisfied: ordered-set in /usr/local/lib/python3.7/dist-packages (from torchmeta) (4.0.2)\n",
      "Requirement already satisfied: torchvision<0.11.0,>=0.5.0 in /usr/local/lib/python3.7/dist-packages (from torchmeta) (0.10.1)\n",
      "Requirement already satisfied: requests in /usr/local/lib/python3.7/dist-packages (from torchmeta) (2.23.0)\n",
      "Requirement already satisfied: numpy>=1.14.0 in /usr/local/lib/python3.7/dist-packages (from torchmeta) (1.19.5)\n",
      "Requirement already satisfied: Pillow>=7.0.0 in /usr/local/lib/python3.7/dist-packages (from torchmeta) (7.1.2)\n",
      "Requirement already satisfied: tqdm>=4.0.0 in /usr/local/lib/python3.7/dist-packages (from torchmeta) (4.62.3)\n",
      "Requirement already satisfied: torch<1.10.0,>=1.4.0 in /usr/local/lib/python3.7/dist-packages (from torchmeta) (1.9.1)\n",
      "Requirement already satisfied: typing-extensions in /usr/local/lib/python3.7/dist-packages (from torch<1.10.0,>=1.4.0->torchmeta) (3.10.0.2)\n",
      "Requirement already satisfied: cached-property in /usr/local/lib/python3.7/dist-packages (from h5py->torchmeta) (1.5.2)\n",
      "Requirement already satisfied: idna<3,>=2.5 in /usr/local/lib/python3.7/dist-packages (from requests->torchmeta) (2.10)\n",
      "Requirement already satisfied: certifi>=2017.4.17 in /usr/local/lib/python3.7/dist-packages (from requests->torchmeta) (2021.10.8)\n",
      "Requirement already satisfied: urllib3!=1.25.0,!=1.25.1,<1.26,>=1.21.1 in /usr/local/lib/python3.7/dist-packages (from requests->torchmeta) (1.24.3)\n",
      "Requirement already satisfied: chardet<4,>=3.0.2 in /usr/local/lib/python3.7/dist-packages (from requests->torchmeta) (3.0.4)\n"
     ]
    }
   ]
  },
  {
   "cell_type": "code",
   "source": [
    "import os\n",
    "\n",
    "import easydict\n",
    "import matplotlib.pyplot as plt\n",
    "\n",
    "# torch <= 1.9.1\n",
    "import torch\n",
    "import torch.nn as nn\n",
    "import torch.nn.functional as F\n",
    "\n",
    "# In Colab, install torchmeta using 'pip install torchmeta'\n",
    "from torchmeta.datasets.helpers import omniglot\n",
    "from torchmeta.utils.data import BatchMetaDataLoader\n",
    "from tqdm import tqdm"
   ],
   "metadata": {
    "id": "aN_3dJ_zACtb"
   },
   "execution_count": null,
   "outputs": []
  },
  {
   "cell_type": "code",
   "source": [
    "def get_dataloader(args):\n",
    "    train_dataset = omniglot(\n",
    "        args.folder,\n",
    "        shots=args.num_shots,\n",
    "        # test_shots=1, # default = shots\n",
    "        ways=args.num_ways,\n",
    "        shuffle=True,\n",
    "        meta_train=True,\n",
    "        download=args.download,\n",
    "    )\n",
    "    train_dataloader = BatchMetaDataLoader(\n",
    "        train_dataset, batch_size=args.task_batch_size, shuffle=True, num_workers=1\n",
    "    )\n",
    "\n",
    "    test_dataset = omniglot(\n",
    "        args.folder,\n",
    "        shots=args.num_shots,\n",
    "        # test_shots=1, # default = shots\n",
    "        ways=args.num_ways,\n",
    "        shuffle=True,\n",
    "        meta_test=True,\n",
    "        download=args.download,\n",
    "    )\n",
    "    test_dataloader = BatchMetaDataLoader(\n",
    "        test_dataset, batch_size=args.task_batch_size, shuffle=True, num_workers=1\n",
    "    )\n",
    "\n",
    "    val_dataset = omniglot(\n",
    "        args.folder,\n",
    "        shots=args.num_shots,\n",
    "        # test_shots=1, # default = shots\n",
    "        ways=args.num_ways,\n",
    "        shuffle=True,\n",
    "        meta_val=True,\n",
    "        download=args.download,\n",
    "    )\n",
    "    val_dataloader = BatchMetaDataLoader(\n",
    "        val_dataset, batch_size=args.task_batch_size, shuffle=True, num_workers=1\n",
    "    )\n",
    "\n",
    "    return train_dataloader, test_dataloader, val_dataloader"
   ],
   "metadata": {
    "id": "-MwLuvQHAEB1"
   },
   "execution_count": null,
   "outputs": []
  },
  {
   "cell_type": "code",
   "source": [
    "def save_model(args, model, title):\n",
    "    if not os.path.isdir(args.output_folder):\n",
    "        os.mkdir(args.output_folder)\n",
    "    filename = os.path.join(args.output_folder, title)\n",
    "    with open(filename, \"wb\") as f:\n",
    "        state_dict = model.state_dict()\n",
    "        torch.save(state_dict, f)\n",
    "    print(\"model saved in\", filename)\n",
    "\n",
    "\n",
    "def load_model(args, model, title):\n",
    "    print(\"Load model\")\n",
    "    filename = os.path.join(args.output_folder, title)\n",
    "    model.load_state_dict(torch.load(filename))"
   ],
   "metadata": {
    "id": "akpdFZpQAFih"
   },
   "execution_count": null,
   "outputs": []
  },
  {
   "cell_type": "code",
   "source": [
    "def print_graph(train_accuracies, val_accuracies, train_losses, val_losses):\n",
    "    fig, axs = plt.subplots(1, 2, figsize=(14, 6))\n",
    "\n",
    "    axs[0].plot(train_accuracies, label=\"train_acc\")\n",
    "    axs[0].plot(val_accuracies, label=\"test_acc\")\n",
    "    axs[0].set_title(\"Accuracy\")\n",
    "    axs[0].legend()\n",
    "\n",
    "    axs[1].plot(train_losses, label=\"train_loss\")\n",
    "    axs[1].plot(val_losses, label=\"test_loss\")\n",
    "    axs[1].set_title(\"Loss\")\n",
    "    axs[1].legend()\n",
    "\n",
    "    fig.show()"
   ],
   "metadata": {
    "id": "ofLJ458NAIOK"
   },
   "execution_count": null,
   "outputs": []
  },
  {
   "cell_type": "code",
   "source": [
    "class MatchingNet(nn.Module):\n",
    "    def __init__(self, in_channels, num_ways, num_shots):\n",
    "        super(MatchingNet, self).__init__()\n",
    "        self.in_channels = in_channels\n",
    "        self.emb_size = 64\n",
    "        self.conv_hidden = 64\n",
    "        self.num_ways = num_ways\n",
    "        self.num_support = num_ways * num_shots\n",
    "\n",
    "        self.cnn = nn.Sequential(\n",
    "            self.convBlock(self.in_channels, self.emb_size, 3),  # 14\n",
    "            self.convBlock(self.emb_size, self.emb_size, 3),  # 7\n",
    "            self.convBlock(self.emb_size, self.emb_size, 3),  # 3\n",
    "            self.convBlock(self.emb_size, self.emb_size, 3),  # 1\n",
    "            nn.Flatten(start_dim=1),\n",
    "            nn.Linear(self.emb_size, self.emb_size),\n",
    "        )\n",
    "        self.bilstm = nn.LSTM(\n",
    "            input_size=self.emb_size,\n",
    "            num_layers=self.num_support,\n",
    "            hidden_size=self.emb_size,\n",
    "            bidirectional=True,\n",
    "            batch_first=True,\n",
    "        )\n",
    "\n",
    "        self.lstm_cell = nn.LSTMCell(input_size=self.emb_size, hidden_size=self.emb_size)\n",
    "\n",
    "    def convBlock(self, in_channels, out_channels, kernel_size, **kwargs):\n",
    "        return nn.Sequential(\n",
    "            nn.Conv2d(in_channels, out_channels, kernel_size, padding=1, **kwargs),\n",
    "            nn.BatchNorm2d(out_channels, momentum=1.0, track_running_stats=False),\n",
    "            nn.ReLU(),\n",
    "            nn.MaxPool2d(2),\n",
    "        )\n",
    "\n",
    "    def read_out(self, hidden, support_emb):\n",
    "        num_query = int(hidden.shape[0] / support_emb.shape[0])\n",
    "        support_emb_repeat = support_emb.repeat(\n",
    "            num_query, 1, 1\n",
    "        )  # batch_size * num_query, num_support, emb_size\n",
    "        hidden_T = hidden.unsqueeze(-1)  # batch_size * num_query, emb_size, 1\n",
    "        attention = F.softmax(\n",
    "            torch.bmm(support_emb_repeat, hidden_T)\n",
    "        )  # batch_size * num_query, num_support, 1\n",
    "        support_emb_att = (\n",
    "            support_emb_repeat * attention\n",
    "        )  # batch_size * num_query, num_support, emb_size\n",
    "        read_out = support_emb_att.sum(1)  # batch_size * num_query, emb_size\n",
    "        return read_out\n",
    "\n",
    "    def g(self, support_x):\n",
    "        batch_size = support_x.shape[0]\n",
    "        support_cnn = self.cnn(support_x.flatten(start_dim=0, end_dim=1)).unflatten(\n",
    "            dim=0, sizes=[batch_size, self.num_support]\n",
    "        )\n",
    "        support_bilstm, _ = self.bilstm(support_cnn)\n",
    "        support_bilstm_for, support_bilstm_rev = torch.tensor_split(support_bilstm, 2, dim=-1)\n",
    "        return support_bilstm_for + support_bilstm_rev + support_cnn\n",
    "\n",
    "    def f(self, query_x, support_emb):\n",
    "        query_cnn = self.cnn(query_x.flatten(start_dim=0, end_dim=1))\n",
    "        hidden_state = query_cnn.new_zeros(query_cnn.shape)\n",
    "        read_out = query_cnn.new_zeros(query_cnn.shape)\n",
    "        cell_state = query_cnn.new_zeros(query_cnn.shape)\n",
    "        for lstm_steps in range(10):\n",
    "            hidden_state, cell_state = self.lstm_cell(query_cnn, (hidden_state + read_out, cell_state))\n",
    "            hidden_state = hidden_state + query_cnn\n",
    "            read_out = self.read_out(hidden_state, support_emb)\n",
    "        query_emb = hidden_state.unflatten(dim=0, sizes=[query_x.shape[0], query_x.shape[1]])\n",
    "        return query_emb\n",
    "\n",
    "    def forward(self, support_x, query_x):\n",
    "        support_emb = self.g(support_x)  # batch_size, num_support, emb_size\n",
    "        query_emb = self.f(query_x, support_emb)  # batch_size, num_query, emb_size\n",
    "\n",
    "        return support_emb, query_emb"
   ],
   "metadata": {
    "id": "5vTd5AOVAJj4"
   },
   "execution_count": null,
   "outputs": []
  },
  {
   "cell_type": "code",
   "source": [
    "def get_probability(support_emb, query_emb, support_y, num_ways):\n",
    "    batch_size = support_emb.shape[0]\n",
    "    num_support = support_emb.shape[1]\n",
    "    num_query = query_emb.shape[1]\n",
    "\n",
    "    query_emb_repeat = query_emb.unsqueeze(2).repeat(\n",
    "        1, 1, num_support, 1\n",
    "    )  # batch_size, num_query, num_support, emb_size\n",
    "    support_emb_repeat = support_emb.unsqueeze(1).repeat(\n",
    "        1, num_query, 1, 1\n",
    "    )  # batch_size, num_query, num_support, emb_size\n",
    "    similarity = F.cosine_similarity(\n",
    "        support_emb_repeat, query_emb_repeat, dim=-1, eps=1e-8\n",
    "    )  # batch_size, num_query, num_support\n",
    "    attention = F.softmax(similarity, dim=-1)  # batch_size, num_query, num_support\n",
    "    indices = support_y.unsqueeze(1).expand(-1, num_query, -1)  # batch_size, num_query, num_support\n",
    "\n",
    "    prob = attention.new_zeros((batch_size, num_query, num_ways))\n",
    "    prob.scatter_add_(-1, indices, attention)  # batch_size, num_query, num_ways\n",
    "\n",
    "    return prob"
   ],
   "metadata": {
    "id": "9cRXILRLChXn"
   },
   "execution_count": null,
   "outputs": []
  },
  {
   "cell_type": "code",
   "source": [
    "def train_matching(args, task_batch, model, criterion, optimizer):\n",
    "    model.train()\n",
    "\n",
    "    support_xs = task_batch[\"train\"][0].to(device=args.device)\n",
    "    support_ys = task_batch[\"train\"][1].to(device=args.device)\n",
    "    query_xs = task_batch[\"test\"][0].to(device=args.device)\n",
    "    query_ys = task_batch[\"test\"][1].to(device=args.device)\n",
    "\n",
    "    accuracy = torch.tensor(0.0, device=args.device)\n",
    "\n",
    "    support_emb, query_emb = model(support_xs, query_xs)\n",
    "    query_prob = get_probability(support_emb, query_emb, support_ys, args.num_ways)\n",
    "\n",
    "    query_prob_flat = query_prob.flatten(start_dim=0, end_dim=1)\n",
    "    query_ys_flat = query_ys.flatten()\n",
    "    loss = criterion(query_prob_flat, query_ys_flat)\n",
    "\n",
    "    model.zero_grad()\n",
    "    loss.backward()\n",
    "    optimizer.step()\n",
    "\n",
    "    with torch.no_grad():\n",
    "        _, query_pred = torch.max(query_prob, dim=-1)\n",
    "        accuracy = torch.mean(query_pred.eq(query_ys).float())\n",
    "\n",
    "    return accuracy.item(), loss.item()"
   ],
   "metadata": {
    "id": "KV6OJTriAK0q"
   },
   "execution_count": null,
   "outputs": []
  },
  {
   "cell_type": "code",
   "source": [
    "def test_matching(args, task_batch, model, criterion, optimizer):\n",
    "    model.eval()\n",
    "\n",
    "    support_xs = task_batch[\"train\"][0].to(device=args.device)\n",
    "    support_ys = task_batch[\"train\"][1].to(device=args.device)\n",
    "    query_xs = task_batch[\"test\"][0].to(device=args.device)\n",
    "    query_ys = task_batch[\"test\"][1].to(device=args.device)\n",
    "\n",
    "    accuracy = torch.tensor(0.0, device=args.device)\n",
    "\n",
    "    support_emb, query_emb = model(support_xs, query_xs)\n",
    "    query_prob = get_probability(support_emb, query_emb, support_ys, args.num_ways)\n",
    "\n",
    "    query_prob_flat = query_prob.flatten(start_dim=0, end_dim=1)\n",
    "    query_ys_flat = query_ys.flatten()\n",
    "    loss = criterion(query_prob_flat, query_y_flat)\n",
    "\n",
    "    with torch.no_grad():\n",
    "        _, query_pred = torch.max(query_prob, dim=-1)\n",
    "        accuracy = torch.mean(query_pred.eq(query_ys).float())\n",
    "\n",
    "    return accuracy.item(), loss.item()"
   ],
   "metadata": {
    "id": "g824Lhl8AMDv"
   },
   "execution_count": null,
   "outputs": []
  },
  {
   "cell_type": "code",
   "source": [
    "args = easydict.EasyDict(\n",
    "    {\n",
    "        \"folder\": \"dataset\",\n",
    "        \"download\": True,\n",
    "        \"num_shots\": 5,\n",
    "        \"num_ways\": 5,\n",
    "        \"output_folder\": \"model\",\n",
    "        \"task_batch_size\": 32,  # 필수\n",
    "        \"num_task_batch_train\": 600,  # 필수\n",
    "        \"num_task_batch_test\": 200,  # 필수\n",
    "        \"device\": \"cuda\",  # 필수\n",
    "    }\n",
    ")\n",
    "\n",
    "train_dataloader, test_dataloader, val_dataloader = get_dataloader(args)\n",
    "model = MatchingNet(1, args.num_ways, args.num_shots).to(device=args.device)\n",
    "criterion = nn.CrossEntropyLoss()\n",
    "optimizer = torch.optim.Adam(model.parameters(), lr=1e-3)"
   ],
   "metadata": {
    "id": "pvsAiQr4ANMi"
   },
   "execution_count": null,
   "outputs": []
  },
  {
   "cell_type": "code",
   "source": [
    "# Training loop\n",
    "with tqdm(zip(train_dataloader, val_dataloader), total=args.num_task_batch_train) as pbar:\n",
    "    train_accuracies = []\n",
    "    val_accuracies = []\n",
    "    train_losses = []\n",
    "    val_losses = []\n",
    "\n",
    "    for task_batch_idx, (train_batch, val_batch) in enumerate(pbar):\n",
    "        if task_batch_idx >= args.num_task_batch_train:\n",
    "            break\n",
    "\n",
    "        train_accuracy, train_loss = train_matching(args, train_batch, model, criterion, optimizer)\n",
    "        val_accuracy, val_loss = test_matching(args, val_batch, model, criterion, optimizer)\n",
    "\n",
    "        train_accuracies.append(train_accuracy)\n",
    "        val_accuracies.append(val_accuracy)\n",
    "        train_losses.append(train_loss)\n",
    "        val_losses.append(val_loss)\n",
    "\n",
    "        pbar.set_postfix(\n",
    "            train_accuracy=\"{0:.4f}\".format(train_accuracy),\n",
    "            val_accuracy=\"{0:.4f}\".format(val_accuracy),\n",
    "            train_loss=\"{0:.4f}\".format(train_loss),\n",
    "            val_loss=\"{0:.4f}\".format(val_loss),\n",
    "        )\n",
    "\n",
    "    # save model\n",
    "    save_model(args, model, \"matching_network.th\")\n",
    "    print_graph(train_accuracies, val_accuracies, train_losses, val_losses)"
   ],
   "metadata": {
    "colab": {
     "base_uri": "https://localhost:8080/",
     "height": 426
    },
    "id": "L7sQZyZtAOnJ",
    "executionInfo": {
     "status": "ok",
     "timestamp": 1642226393826,
     "user_tz": -540,
     "elapsed": 625354,
     "user": {
      "displayName": "Luna Jang",
      "photoUrl": "https://lh3.googleusercontent.com/a-/AOh14GiBq_mQ3pvg1aATbjbemG_YdHPPMMsRmQcVaghkug=s64",
      "userId": "06164029183671863730"
     }
    },
    "outputId": "891ef1f6-1317-45b8-ff9a-f8c511047567"
   },
   "execution_count": null,
   "outputs": [
    {
     "output_type": "stream",
     "name": "stderr",
     "text": [
      "100%|██████████| 600/600 [10:24<00:00,  1.04s/it, train_accuracy=0.9750, train_loss=1.4489, val_accuracy=0.9812, val_loss=1.4465]\n"
     ]
    },
    {
     "output_type": "stream",
     "name": "stdout",
     "text": [
      "model saved in model/matching_network.th\n"
     ]
    },
    {
     "output_type": "display_data",
     "data": {
      "image/png": "[encoded data removed]",
      "text/plain": [
       "<Figure size 1008x432 with 2 Axes>"
      ]
     },
     "metadata": {
      "needs_background": "light"
     }
    }
   ]
  },
  {
   "cell_type": "code",
   "source": [
    "# load model\n",
    "load_model(args, model, \"matching_network.th\")\n",
    "\n",
    "# Testing loop\n",
    "with tqdm(test_dataloader, total=args.num_task_batch_test) as pbar:\n",
    "    sum_test_accuracies = 0.0\n",
    "    sum_test_losses = 0.0\n",
    "\n",
    "    for task_batch_idx, test_batch in enumerate(pbar):\n",
    "        if task_batch_idx >= args.num_task_batch_test:\n",
    "            break\n",
    "\n",
    "        test_accuracy, test_loss = test_matching(args, test_batch, model, criterion, optimizer)\n",
    "\n",
    "        sum_test_accuracies += test_accuracy\n",
    "        sum_test_losses += test_loss\n",
    "        pbar.set_postfix(\n",
    "            test_accuracy=\"{0:.4f}\".format(sum_test_accuracies / (task_batch_idx + 1)),\n",
    "            test_loss=\"{0:.4f}\".format(sum_test_losses / (task_batch_idx + 1)),\n",
    "        )"
   ],
   "metadata": {
    "colab": {
     "base_uri": "https://localhost:8080/"
    },
    "id": "TeFUZElhMcJK",
    "executionInfo": {
     "status": "ok",
     "timestamp": 1642226535691,
     "user_tz": -540,
     "elapsed": 141874,
     "user": {
      "displayName": "Luna Jang",
      "photoUrl": "https://lh3.googleusercontent.com/a-/AOh14GiBq_mQ3pvg1aATbjbemG_YdHPPMMsRmQcVaghkug=s64",
      "userId": "06164029183671863730"
     }
    },
    "outputId": "f782b74f-5f64-4384-e5b0-f97b2b6c1378"
   },
   "execution_count": null,
   "outputs": [
    {
     "output_type": "stream",
     "name": "stdout",
     "text": [
      "Load model\n"
     ]
    },
    {
     "output_type": "stream",
     "name": "stderr",
     "text": [
      "100%|██████████| 200/200 [02:22<00:00,  1.41it/s, test_accuracy=0.9586, test_loss=1.4558]\n"
     ]
    }
   ]
  }
 ]
}
