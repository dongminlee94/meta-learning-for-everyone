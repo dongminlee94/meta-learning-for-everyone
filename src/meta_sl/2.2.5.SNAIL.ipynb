{
 "nbformat": 4,
 "nbformat_minor": 0,
 "metadata": {
  "colab": {
   "name": "2.2.5.SNAIL.ipynb",
   "provenance": [],
   "collapsed_sections": [],
   "authorship_tag": "ABX9TyMBeWdJxvOkFxBFBQlUpO7P"
  },
  "kernelspec": {
   "name": "python3",
   "display_name": "Python 3"
  },
  "language_info": {
   "name": "python"
  },
  "accelerator": "GPU"
 },
 "cells": [
  {
   "cell_type": "code",
   "execution_count": null,
   "metadata": {
    "id": "2sD4GzQanlfO"
   },
   "outputs": [],
   "source": [
    "# Ignore InterpolationMode warnings from torchmeta\n",
    "import warnings\n",
    "\n",
    "warnings.filterwarnings(\"ignore\")"
   ]
  },
  {
   "cell_type": "code",
   "source": [
    "pip install torchmeta"
   ],
   "metadata": {
    "colab": {
     "base_uri": "https://localhost:8080/"
    },
    "id": "moujISNlno0V",
    "executionInfo": {
     "status": "ok",
     "timestamp": 1642240187827,
     "user_tz": -540,
     "elapsed": 2489,
     "user": {
      "displayName": "Luna Jang",
      "photoUrl": "https://lh3.googleusercontent.com/a-/AOh14GiBq_mQ3pvg1aATbjbemG_YdHPPMMsRmQcVaghkug=s64",
      "userId": "06164029183671863730"
     }
    },
    "outputId": "a8b72082-e683-438b-e6e4-d804f7cb672f"
   },
   "execution_count": null,
   "outputs": [
    {
     "output_type": "stream",
     "name": "stdout",
     "text": [
      "Requirement already satisfied: torchmeta in /usr/local/lib/python3.7/dist-packages (1.8.0)\n",
      "Requirement already satisfied: Pillow>=7.0.0 in /usr/local/lib/python3.7/dist-packages (from torchmeta) (7.1.2)\n",
      "Requirement already satisfied: numpy>=1.14.0 in /usr/local/lib/python3.7/dist-packages (from torchmeta) (1.19.5)\n",
      "Requirement already satisfied: torchvision<0.11.0,>=0.5.0 in /usr/local/lib/python3.7/dist-packages (from torchmeta) (0.10.1)\n",
      "Requirement already satisfied: h5py in /usr/local/lib/python3.7/dist-packages (from torchmeta) (3.1.0)\n",
      "Requirement already satisfied: tqdm>=4.0.0 in /usr/local/lib/python3.7/dist-packages (from torchmeta) (4.62.3)\n",
      "Requirement already satisfied: torch<1.10.0,>=1.4.0 in /usr/local/lib/python3.7/dist-packages (from torchmeta) (1.9.1)\n",
      "Requirement already satisfied: ordered-set in /usr/local/lib/python3.7/dist-packages (from torchmeta) (4.0.2)\n",
      "Requirement already satisfied: requests in /usr/local/lib/python3.7/dist-packages (from torchmeta) (2.23.0)\n",
      "Requirement already satisfied: typing-extensions in /usr/local/lib/python3.7/dist-packages (from torch<1.10.0,>=1.4.0->torchmeta) (3.10.0.2)\n",
      "Requirement already satisfied: cached-property in /usr/local/lib/python3.7/dist-packages (from h5py->torchmeta) (1.5.2)\n",
      "Requirement already satisfied: certifi>=2017.4.17 in /usr/local/lib/python3.7/dist-packages (from requests->torchmeta) (2021.10.8)\n",
      "Requirement already satisfied: idna<3,>=2.5 in /usr/local/lib/python3.7/dist-packages (from requests->torchmeta) (2.10)\n",
      "Requirement already satisfied: chardet<4,>=3.0.2 in /usr/local/lib/python3.7/dist-packages (from requests->torchmeta) (3.0.4)\n",
      "Requirement already satisfied: urllib3!=1.25.0,!=1.25.1,<1.26,>=1.21.1 in /usr/local/lib/python3.7/dist-packages (from requests->torchmeta) (1.24.3)\n"
     ]
    }
   ]
  },
  {
   "cell_type": "code",
   "source": [
    "import math\n",
    "import os\n",
    "\n",
    "import easydict\n",
    "import matplotlib.pyplot as plt\n",
    "import numpy as np\n",
    "\n",
    "# torch <= 1.9.1\n",
    "import torch\n",
    "import torch.nn as nn\n",
    "import torch.nn.functional as F\n",
    "\n",
    "# In Colab, install torchmeta using 'pip install torchmeta'\n",
    "from torchmeta.datasets.helpers import omniglot\n",
    "from torchmeta.utils.data import BatchMetaDataLoader\n",
    "from tqdm import tqdm"
   ],
   "metadata": {
    "id": "79MhGArLnpvZ"
   },
   "execution_count": null,
   "outputs": []
  },
  {
   "cell_type": "code",
   "source": [
    "def get_dataloader(args):\n",
    "    train_dataset = omniglot(\n",
    "        args.folder,\n",
    "        shots=args.num_shots,\n",
    "        # test_shots=1, # default = shots\n",
    "        ways=args.num_ways,\n",
    "        shuffle=True,\n",
    "        meta_train=True,\n",
    "        download=args.download,\n",
    "    )\n",
    "    train_dataloader = BatchMetaDataLoader(\n",
    "        train_dataset, batch_size=args.task_batch_size, shuffle=True, num_workers=1\n",
    "    )\n",
    "\n",
    "    test_dataset = omniglot(\n",
    "        args.folder,\n",
    "        shots=args.num_shots,\n",
    "        # test_shots=1, # default = shots\n",
    "        ways=args.num_ways,\n",
    "        shuffle=True,\n",
    "        meta_test=True,\n",
    "        download=args.download,\n",
    "    )\n",
    "    test_dataloader = BatchMetaDataLoader(\n",
    "        test_dataset, batch_size=args.task_batch_size, shuffle=True, num_workers=1\n",
    "    )\n",
    "\n",
    "    val_dataset = omniglot(\n",
    "        args.folder,\n",
    "        shots=args.num_shots,\n",
    "        # test_shots=1, # default = shots\n",
    "        ways=args.num_ways,\n",
    "        shuffle=True,\n",
    "        meta_val=True,\n",
    "        download=args.download,\n",
    "    )\n",
    "    val_dataloader = BatchMetaDataLoader(\n",
    "        val_dataset, batch_size=args.task_batch_size, shuffle=True, num_workers=1\n",
    "    )\n",
    "\n",
    "    return train_dataloader, test_dataloader, val_dataloader"
   ],
   "metadata": {
    "id": "zabLz6FNnr3K"
   },
   "execution_count": null,
   "outputs": []
  },
  {
   "cell_type": "code",
   "source": [
    "def save_model(args, model, title):\n",
    "    if not os.path.isdir(args.output_folder):\n",
    "        os.mkdir(args.output_folder)\n",
    "    filename = os.path.join(args.output_folder, title)\n",
    "    with open(filename, \"wb\") as f:\n",
    "        state_dict = model.state_dict()\n",
    "        torch.save(state_dict, f)\n",
    "    print(\"model saved in\", filename)\n",
    "\n",
    "\n",
    "def load_model(args, model, title):\n",
    "    print(\"Load model\")\n",
    "    filename = os.path.join(args.output_folder, title)\n",
    "    model.load_state_dict(torch.load(filename))"
   ],
   "metadata": {
    "id": "NlyavH0jnu_z"
   },
   "execution_count": null,
   "outputs": []
  },
  {
   "cell_type": "code",
   "source": [
    "def print_graph(train_accuracies, val_accuracies, train_losses, val_losses):\n",
    "    fig, axs = plt.subplots(1, 2, figsize=(14, 6))\n",
    "\n",
    "    axs[0].plot(train_accuracies, label=\"train_acc\")\n",
    "    axs[0].plot(val_accuracies, label=\"test_acc\")\n",
    "    axs[0].set_title(\"Accuracy\")\n",
    "    axs[0].legend()\n",
    "\n",
    "    axs[1].plot(train_losses, label=\"train_loss\")\n",
    "    axs[1].plot(val_losses, label=\"test_loss\")\n",
    "    axs[1].set_title(\"Loss\")\n",
    "    axs[1].legend()\n",
    "\n",
    "    fig.show()"
   ],
   "metadata": {
    "id": "wPh5zLIUnwOX"
   },
   "execution_count": null,
   "outputs": []
  },
  {
   "cell_type": "code",
   "source": [
    "class EmbeddingNet(nn.Module):\n",
    "    def __init__(self, x_dim=1, hid_dim=64, z_dim=64):\n",
    "        super(EmbeddingNet, self).__init__()\n",
    "        self.encoder = nn.Sequential(\n",
    "            EmbeddingNet._conv_block(x_dim, hid_dim),\n",
    "            EmbeddingNet._conv_block(hid_dim, hid_dim),\n",
    "            EmbeddingNet._conv_block(hid_dim, hid_dim),\n",
    "            EmbeddingNet._conv_block(hid_dim, z_dim),\n",
    "        )\n",
    "\n",
    "    @staticmethod\n",
    "    def _conv_block(in_channels, out_channels):\n",
    "        return nn.Sequential(\n",
    "            nn.Conv2d(in_channels, out_channels, 3, padding=1),\n",
    "            nn.BatchNorm2d(out_channels, momentum=1),\n",
    "            nn.ReLU(),\n",
    "            nn.MaxPool2d(2),\n",
    "        )\n",
    "\n",
    "    def forward(self, x):\n",
    "        x = self.encoder(x)\n",
    "        out = x.view(x.size(0), -1)\n",
    "\n",
    "        return out"
   ],
   "metadata": {
    "id": "0tDxIn7Hnxa9"
   },
   "execution_count": null,
   "outputs": []
  },
  {
   "cell_type": "code",
   "source": [
    "class CasualConv1d(nn.Module):\n",
    "    def __init__(\n",
    "        self, in_channels, out_channels, kernel_size, stride=1, dilation=1, groups=1, bias=True\n",
    "    ):\n",
    "        super(CasualConv1d, self).__init__()\n",
    "        self.dilation = dilation\n",
    "        padding = dilation * (kernel_size - 1)\n",
    "        self.conv1d = nn.Conv1d(\n",
    "            in_channels, out_channels, kernel_size, stride, padding, dilation, groups, bias\n",
    "        )\n",
    "\n",
    "    def forward(self, input_):\n",
    "        out = self.conv1d(input_)\n",
    "        return out[:, :, : -self.dilation]"
   ],
   "metadata": {
    "id": "ESeoHlmrny8R"
   },
   "execution_count": null,
   "outputs": []
  },
  {
   "cell_type": "code",
   "source": [
    "class DenseBlock(nn.Module):\n",
    "    def __init__(self, in_channels, dilation, filters, kernel_size=2):\n",
    "        super(DenseBlock, self).__init__()\n",
    "        self.causal_conv1 = CasualConv1d(in_channels, filters, kernel_size, dilation=dilation)\n",
    "        self.causal_conv2 = CasualConv1d(in_channels, filters, kernel_size, dilation=dilation)\n",
    "\n",
    "    def forward(self, input_):\n",
    "        xf = self.causal_conv1(input_)\n",
    "        xg = self.causal_conv2(input_)\n",
    "        activations = torch.tanh(xf) * torch.sigmoid(xg)\n",
    "\n",
    "        return torch.cat((input_, activations), dim=1)"
   ],
   "metadata": {
    "id": "Xdc3g7gqn0P5"
   },
   "execution_count": null,
   "outputs": []
  },
  {
   "cell_type": "code",
   "source": [
    "class TCBlock(nn.Module):\n",
    "    def __init__(self, in_channels, seq_length, filters):\n",
    "        super(TCBlock, self).__init__()\n",
    "        self.dense_blocks = nn.ModuleList(\n",
    "            [\n",
    "                DenseBlock(in_channels + i * filters, 2 ** (i + 1), filters)\n",
    "                for i in range(int(math.ceil(math.log(seq_length, 2))))\n",
    "            ]\n",
    "        )\n",
    "\n",
    "    def forward(self, input_):\n",
    "        input_ = torch.transpose(input_, 1, 2)\n",
    "        for block in self.dense_blocks:\n",
    "            input_ = block(input_)\n",
    "\n",
    "        return torch.transpose(input_, 1, 2)"
   ],
   "metadata": {
    "id": "hKhnjo0hn1Wg"
   },
   "execution_count": null,
   "outputs": []
  },
  {
   "cell_type": "code",
   "source": [
    "class AttentionBlock(nn.Module):\n",
    "    def __init__(self, in_channels, key_size, value_size):\n",
    "        super(AttentionBlock, self).__init__()\n",
    "        self.query_layer = nn.Linear(in_channels, key_size)\n",
    "        self.keys_layer = nn.Linear(in_channels, key_size)\n",
    "        self.values_layer = nn.Linear(in_channels, value_size)\n",
    "        self.sqrt_key_size = math.sqrt(key_size)\n",
    "        self.key_size = key_size\n",
    "\n",
    "    @staticmethod\n",
    "    def CausallyMaskedSoftmax(logits, key_size):\n",
    "        seq_len = logits.shape[1]\n",
    "        mask = np.array([[i > j for i in range(seq_len)] for j in range(seq_len)])\n",
    "        mask = torch.BoolTensor(mask).to(logits.get_device())\n",
    "        logits = logits.data.masked_fill(mask, -float(\"inf\"))\n",
    "\n",
    "        return F.softmax(logits / math.sqrt(key_size), dim=1)\n",
    "\n",
    "    def forward(self, input_):\n",
    "        keys = self.keys_layer(input_)\n",
    "        query = self.query_layer(input_)\n",
    "        logits = torch.bmm(query, torch.transpose(keys, 1, 2))\n",
    "        probs = AttentionBlock.CausallyMaskedSoftmax(logits, self.key_size)\n",
    "\n",
    "        values = self.values_layer(input_)\n",
    "        read = torch.bmm(probs, values)\n",
    "\n",
    "        return torch.cat((input_, read), dim=2)"
   ],
   "metadata": {
    "id": "jY4-zOLLuiLC"
   },
   "execution_count": null,
   "outputs": []
  },
  {
   "cell_type": "code",
   "source": [
    "class SNAIL(nn.Module):\n",
    "    def __init__(self, num_ways, num_shots):\n",
    "        super(SNAIL, self).__init__()\n",
    "\n",
    "        self.num_ways, self.num_shots = num_ways, num_shots\n",
    "\n",
    "        self.encoder = EmbeddingNet()\n",
    "        num_channels = 64 + num_ways\n",
    "        num_filters = int(math.ceil(math.log(num_ways * num_shots + 1, 2)))\n",
    "        self.attention1 = AttentionBlock(num_channels, 64, 32)\n",
    "        num_channels += 32\n",
    "        self.tc1 = TCBlock(num_channels, num_ways * num_shots + 1, 128)\n",
    "        num_channels += num_filters * 128\n",
    "        self.attention2 = AttentionBlock(num_channels, 256, 128)\n",
    "        num_channels += 128\n",
    "        self.tc2 = TCBlock(num_channels, num_ways * num_shots + 1, 128)\n",
    "        num_channels += num_filters * 128\n",
    "        self.attention3 = AttentionBlock(num_channels, 512, 256)\n",
    "        num_channels += 256\n",
    "        self.fc = nn.Linear(num_channels, num_ways)\n",
    "\n",
    "    def forward(self, x_seq, y_seq):\n",
    "        x_emb = self.encoder(x_seq)\n",
    "        batch_size = int(y_seq.size()[0] / (self.num_ways * self.num_shots + 1))\n",
    "\n",
    "        last_idxs = [(i + 1) * (self.num_ways * self.num_shots + 1) - 1 for i in range(batch_size)]\n",
    "        y_seq[last_idxs] = torch.Tensor(np.zeros((batch_size, y_seq.size()[1]))).to(y_seq.get_device())\n",
    "\n",
    "        x_cat = torch.cat((x_emb, y_seq), 1)\n",
    "        x_view = x_cat.view((batch_size, self.num_ways * self.num_shots + 1, -1))\n",
    "        x_att1 = self.attention1(x_view)\n",
    "        x_tc1 = self.tc1(x_att1)\n",
    "        x_att2 = self.attention2(x_tc1)\n",
    "        x_tc2 = self.tc2(x_att2)\n",
    "        x_att3 = self.attention3(x_tc2)\n",
    "        x_out = self.fc(x_att3)\n",
    "        return x_out"
   ],
   "metadata": {
    "id": "i7MMGmOBujng"
   },
   "execution_count": null,
   "outputs": []
  },
  {
   "cell_type": "code",
   "source": [
    "def generate_sequence(task_batch, num_ways, num_shots):\n",
    "    support_xs, support_ys = task_batch[\"train\"]\n",
    "    query_xs, query_ys = task_batch[\"test\"]\n",
    "\n",
    "    chosen_indices = torch.randint(query_xs.shape[1], size=(query_xs.shape[0],))\n",
    "    chosen_query_xs = query_xs[torch.arange(query_xs.shape[0]), chosen_indices, :, :, :].unsqueeze(1)\n",
    "    chosen_query_ys = query_ys[torch.arange(query_ys.shape[0]), chosen_indices].unsqueeze(1)\n",
    "\n",
    "    x_seq = torch.cat((support_xs, chosen_query_xs), dim=1).reshape((-1, *support_xs.shape[2:]))\n",
    "    y_seq = torch.cat((support_ys, chosen_query_ys), dim=1).reshape((-1, *support_ys.shape[2:]))\n",
    "\n",
    "    y_seq_onehot = F.one_hot(y_seq).float()\n",
    "\n",
    "    query_y = y_seq[:: (num_ways * num_shots + 1)].long()\n",
    "\n",
    "    return x_seq, y_seq_onehot, query_y"
   ],
   "metadata": {
    "id": "ZRdZOfZon300"
   },
   "execution_count": null,
   "outputs": []
  },
  {
   "cell_type": "code",
   "source": [
    "def train_SNAIL(args, task_batch, model, criterion, optimizer):\n",
    "    model.train()\n",
    "\n",
    "    x_seq, y_seq, query_y = generate_sequence(task_batch, args.num_ways, args.num_shots)\n",
    "    x_seq = x_seq.to(device=args.device)\n",
    "    y_seq = y_seq.to(device=args.device)\n",
    "    query_y = query_y.to(device=args.device)\n",
    "\n",
    "    query_prob = model(x_seq, y_seq)[:, -1, :]\n",
    "    loss = criterion(query_prob, query_y)\n",
    "\n",
    "    model.zero_grad()\n",
    "    loss.backward()\n",
    "    optimizer.step()\n",
    "\n",
    "    with torch.no_grad():\n",
    "        _, query_preds = query_prob.max(1)\n",
    "        accuracy = torch.eq(query_preds, query_y).float().mean()\n",
    "\n",
    "    return accuracy.item(), loss.item()"
   ],
   "metadata": {
    "id": "edryykkln46d"
   },
   "execution_count": null,
   "outputs": []
  },
  {
   "cell_type": "code",
   "source": [
    "def test_SNAIL(args, task_batch, model, criterion, optimizer):\n",
    "    model.eval()\n",
    "\n",
    "    x_seq, y_seq, query_y = generate_sequence(task_batch, args.num_ways, args.num_shots)\n",
    "    x_seq = x_seq.to(device=args.device)\n",
    "    y_seq = y_seq.to(device=args.device)\n",
    "    query_y = query_y.to(device=args.device)\n",
    "\n",
    "    query_prob = model(x_seq, y_seq)[:, -1, :]\n",
    "    loss = criterion(query_prob, query_y)\n",
    "\n",
    "    with torch.no_grad():\n",
    "        _, query_preds = query_prob.max(1)\n",
    "        accuracy = torch.eq(query_preds, query_y).float().mean()\n",
    "\n",
    "    return accuracy.item(), loss.item()"
   ],
   "metadata": {
    "id": "j-dD9teMn5_F"
   },
   "execution_count": null,
   "outputs": []
  },
  {
   "cell_type": "code",
   "source": [
    "args = easydict.EasyDict(\n",
    "    {\n",
    "        \"folder\": \"dataset\",\n",
    "        \"download\": True,\n",
    "        \"num_shots\": 1,\n",
    "        \"num_ways\": 5,\n",
    "        \"output_folder\": \"model\",\n",
    "        \"task_batch_size\": 32,  # 필수\n",
    "        \"num_task_batch_train\": 600,  # 필수\n",
    "        \"num_task_batch_test\": 200,  # 필수\n",
    "        \"device\": \"cuda\",  # 필수\n",
    "    }\n",
    ")\n",
    "\n",
    "train_dataloader, test_dataloader, val_dataloader = get_dataloader(args)\n",
    "model = SNAIL(args.num_ways, args.num_shots).to(device=args.device)\n",
    "\n",
    "criterion = nn.CrossEntropyLoss()\n",
    "optimizer = torch.optim.Adam(params=model.parameters(), lr=1e-4)"
   ],
   "metadata": {
    "id": "87lCl1Ien7Kr"
   },
   "execution_count": null,
   "outputs": []
  },
  {
   "cell_type": "code",
   "source": [
    "# Training loop\n",
    "with tqdm(zip(train_dataloader, val_dataloader), total=args.num_task_batch_train) as pbar:\n",
    "    train_accuracies = []\n",
    "    val_accuracies = []\n",
    "    train_losses = []\n",
    "    val_losses = []\n",
    "\n",
    "    for task_batch_idx, (train_batch, val_batch) in enumerate(pbar):\n",
    "        if task_batch_idx >= args.num_task_batch_train:\n",
    "            break\n",
    "\n",
    "        train_accuracy, train_loss = train_SNAIL(args, train_batch, model, criterion, optimizer)\n",
    "        val_accuracy, val_loss = test_SNAIL(args, val_batch, model, criterion, optimizer)\n",
    "\n",
    "        train_accuracies.append(train_accuracy)\n",
    "        val_accuracies.append(val_accuracy)\n",
    "        train_losses.append(train_loss)\n",
    "        val_losses.append(val_loss)\n",
    "\n",
    "        pbar.set_postfix(\n",
    "            train_accuracy=\"{0:.4f}\".format(train_accuracy),\n",
    "            val_accuracy=\"{0:.4f}\".format(val_accuracy),\n",
    "            train_loss=\"{0:.4f}\".format(train_loss),\n",
    "            val_loss=\"{0:.4f}\".format(val_loss),\n",
    "        )\n",
    "\n",
    "    # save model\n",
    "    save_model(args, model, \"SNAIL.th\")\n",
    "    print_graph(train_accuracies, val_accuracies, train_losses, val_losses)"
   ],
   "metadata": {
    "colab": {
     "base_uri": "https://localhost:8080/",
     "height": 426
    },
    "id": "8fyiCQsQn8dB",
    "executionInfo": {
     "status": "ok",
     "timestamp": 1642240392963,
     "user_tz": -540,
     "elapsed": 201797,
     "user": {
      "displayName": "Luna Jang",
      "photoUrl": "https://lh3.googleusercontent.com/a-/AOh14GiBq_mQ3pvg1aATbjbemG_YdHPPMMsRmQcVaghkug=s64",
      "userId": "06164029183671863730"
     }
    },
    "outputId": "63a8df4b-52e7-446b-da8b-33ce97358ed3"
   },
   "execution_count": null,
   "outputs": [
    {
     "output_type": "stream",
     "name": "stderr",
     "text": [
      "100%|██████████| 600/600 [03:20<00:00,  2.99it/s, train_accuracy=1.0000, train_loss=0.0239, val_accuracy=1.0000, val_loss=0.0234]\n"
     ]
    },
    {
     "output_type": "stream",
     "name": "stdout",
     "text": [
      "model saved in model/SNAIL.th\n"
     ]
    },
    {
     "output_type": "display_data",
     "data": {
      "image/png": "[encoded data removed]",
      "text/plain": [
       "<Figure size 1008x432 with 2 Axes>"
      ]
     },
     "metadata": {
      "needs_background": "light"
     }
    }
   ]
  },
  {
   "cell_type": "code",
   "source": [
    "# load model\n",
    "load_model(args, model, \"SNAIL.th\")\n",
    "\n",
    "# Testing loop\n",
    "with tqdm(test_dataloader, total=args.num_task_batch_test) as pbar:\n",
    "    sum_test_accuracies = 0.0\n",
    "    sum_test_losses = 0.0\n",
    "\n",
    "    for task_batch_idx, test_batch in enumerate(pbar):\n",
    "        if task_batch_idx >= args.num_task_batch_test:\n",
    "            break\n",
    "\n",
    "        test_accuracy, test_loss = test_SNAIL(args, test_batch, model, criterion, optimizer)\n",
    "\n",
    "        sum_test_accuracies += test_accuracy\n",
    "        sum_test_losses += test_loss\n",
    "        pbar.set_postfix(\n",
    "            test_accuracy=\"{0:.4f}\".format(sum_test_accuracies / (task_batch_idx + 1)),\n",
    "            test_loss=\"{0:.4f}\".format(sum_test_losses / (task_batch_idx + 1)),\n",
    "        )"
   ],
   "metadata": {
    "colab": {
     "base_uri": "https://localhost:8080/"
    },
    "id": "LFKJl4oQn9vs",
    "executionInfo": {
     "status": "ok",
     "timestamp": 1642240439925,
     "user_tz": -540,
     "elapsed": 46969,
     "user": {
      "displayName": "Luna Jang",
      "photoUrl": "https://lh3.googleusercontent.com/a-/AOh14GiBq_mQ3pvg1aATbjbemG_YdHPPMMsRmQcVaghkug=s64",
      "userId": "06164029183671863730"
     }
    },
    "outputId": "e8f371e9-4f78-4bf0-d6b4-f2e8509e8752"
   },
   "execution_count": null,
   "outputs": [
    {
     "output_type": "stream",
     "name": "stdout",
     "text": [
      "Load model\n"
     ]
    },
    {
     "output_type": "stream",
     "name": "stderr",
     "text": [
      "100%|██████████| 200/200 [00:47<00:00,  4.23it/s, test_accuracy=1.0000, test_loss=0.0258]\n"
     ]
    }
   ]
  }
 ]
}
